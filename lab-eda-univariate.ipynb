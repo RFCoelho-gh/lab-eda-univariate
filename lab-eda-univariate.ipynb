{
 "cells": [
  {
   "cell_type": "code",
   "execution_count": 1,
   "id": "02846058-0e0a-41d4-b503-355c395cbc06",
   "metadata": {},
   "outputs": [],
   "source": [
    "import pandas as pd\n",
    "import matplotlib.pyplot as plt\n",
    "import seaborn as sns\n",
    "import numpy as np"
   ]
  },
  {
   "cell_type": "code",
   "execution_count": 2,
   "id": "6ee641f4-84d0-4bd8-ba11-692d3936428d",
   "metadata": {},
   "outputs": [],
   "source": [
    "%matplotlib inline"
   ]
  },
  {
   "cell_type": "code",
   "execution_count": 3,
   "id": "3472623a-c578-4d0a-a96f-1bc91a27f010",
   "metadata": {},
   "outputs": [],
   "source": [
    "path = \"C:\\\\Users\\\\rafae\\\\OneDrive\\\\Documentos\\\\GitHub\\\\lab-eda-univariate\\\\amz_uk_price_prediction_dataset.csv\"\n",
    "df = pd.read_csv(path)"
   ]
  },
  {
   "cell_type": "code",
   "execution_count": 4,
   "id": "5da5e9f8-8e81-409b-9037-d014ff2fb88c",
   "metadata": {},
   "outputs": [
    {
     "data": {
      "text/html": [
       "<div>\n",
       "<style scoped>\n",
       "    .dataframe tbody tr th:only-of-type {\n",
       "        vertical-align: middle;\n",
       "    }\n",
       "\n",
       "    .dataframe tbody tr th {\n",
       "        vertical-align: top;\n",
       "    }\n",
       "\n",
       "    .dataframe thead th {\n",
       "        text-align: right;\n",
       "    }\n",
       "</style>\n",
       "<table border=\"1\" class=\"dataframe\">\n",
       "  <thead>\n",
       "    <tr style=\"text-align: right;\">\n",
       "      <th></th>\n",
       "      <th>uid</th>\n",
       "      <th>asin</th>\n",
       "      <th>title</th>\n",
       "      <th>stars</th>\n",
       "      <th>reviews</th>\n",
       "      <th>price</th>\n",
       "      <th>isBestSeller</th>\n",
       "      <th>boughtInLastMonth</th>\n",
       "      <th>category</th>\n",
       "    </tr>\n",
       "  </thead>\n",
       "  <tbody>\n",
       "    <tr>\n",
       "      <th>0</th>\n",
       "      <td>1</td>\n",
       "      <td>B09B96TG33</td>\n",
       "      <td>Echo Dot (5th generation, 2022 release) | Big ...</td>\n",
       "      <td>4.7</td>\n",
       "      <td>15308</td>\n",
       "      <td>21.99</td>\n",
       "      <td>False</td>\n",
       "      <td>0</td>\n",
       "      <td>Hi-Fi Speakers</td>\n",
       "    </tr>\n",
       "    <tr>\n",
       "      <th>1</th>\n",
       "      <td>2</td>\n",
       "      <td>B01HTH3C8S</td>\n",
       "      <td>Anker Soundcore mini, Super-Portable Bluetooth...</td>\n",
       "      <td>4.7</td>\n",
       "      <td>98099</td>\n",
       "      <td>23.99</td>\n",
       "      <td>True</td>\n",
       "      <td>0</td>\n",
       "      <td>Hi-Fi Speakers</td>\n",
       "    </tr>\n",
       "    <tr>\n",
       "      <th>2</th>\n",
       "      <td>3</td>\n",
       "      <td>B09B8YWXDF</td>\n",
       "      <td>Echo Dot (5th generation, 2022 release) | Big ...</td>\n",
       "      <td>4.7</td>\n",
       "      <td>15308</td>\n",
       "      <td>21.99</td>\n",
       "      <td>False</td>\n",
       "      <td>0</td>\n",
       "      <td>Hi-Fi Speakers</td>\n",
       "    </tr>\n",
       "    <tr>\n",
       "      <th>3</th>\n",
       "      <td>4</td>\n",
       "      <td>B09B8T5VGV</td>\n",
       "      <td>Echo Dot with clock (5th generation, 2022 rele...</td>\n",
       "      <td>4.7</td>\n",
       "      <td>7205</td>\n",
       "      <td>31.99</td>\n",
       "      <td>False</td>\n",
       "      <td>0</td>\n",
       "      <td>Hi-Fi Speakers</td>\n",
       "    </tr>\n",
       "    <tr>\n",
       "      <th>4</th>\n",
       "      <td>5</td>\n",
       "      <td>B09WX6QD65</td>\n",
       "      <td>Introducing Echo Pop | Full sound compact Wi-F...</td>\n",
       "      <td>4.6</td>\n",
       "      <td>1881</td>\n",
       "      <td>17.99</td>\n",
       "      <td>False</td>\n",
       "      <td>0</td>\n",
       "      <td>Hi-Fi Speakers</td>\n",
       "    </tr>\n",
       "  </tbody>\n",
       "</table>\n",
       "</div>"
      ],
      "text/plain": [
       "   uid        asin                                              title  stars  \\\n",
       "0    1  B09B96TG33  Echo Dot (5th generation, 2022 release) | Big ...    4.7   \n",
       "1    2  B01HTH3C8S  Anker Soundcore mini, Super-Portable Bluetooth...    4.7   \n",
       "2    3  B09B8YWXDF  Echo Dot (5th generation, 2022 release) | Big ...    4.7   \n",
       "3    4  B09B8T5VGV  Echo Dot with clock (5th generation, 2022 rele...    4.7   \n",
       "4    5  B09WX6QD65  Introducing Echo Pop | Full sound compact Wi-F...    4.6   \n",
       "\n",
       "   reviews  price  isBestSeller  boughtInLastMonth        category  \n",
       "0    15308  21.99         False                  0  Hi-Fi Speakers  \n",
       "1    98099  23.99          True                  0  Hi-Fi Speakers  \n",
       "2    15308  21.99         False                  0  Hi-Fi Speakers  \n",
       "3     7205  31.99         False                  0  Hi-Fi Speakers  \n",
       "4     1881  17.99         False                  0  Hi-Fi Speakers  "
      ]
     },
     "execution_count": 4,
     "metadata": {},
     "output_type": "execute_result"
    }
   ],
   "source": [
    "df.head()"
   ]
  },
  {
   "cell_type": "markdown",
   "id": "942a28fe-8260-41cb-93e3-e0db15f94359",
   "metadata": {},
   "source": [
    "## Part 1: Understanding Product Categories\n",
    "#### Business Question: What are the most popular product categories on Amazon UK, and how do they compare in terms of listing frequency?\n",
    "\n",
    "##### Frequency Tables:\n",
    "\n",
    "Generate a frequency table for the product category.\n",
    "Which are the top 5 most listed product categories?\n",
    "\n",
    "##### Visualizations:\n",
    "\n",
    "Display the distribution of products across different categories using a bar chart. If you face problems understanding the chart, do it for a subset of top categories.\n",
    "For a subset of top categories, visualize their proportions using a pie chart. Does any category dominate the listings?"
   ]
  },
  {
   "cell_type": "code",
   "execution_count": 5,
   "id": "41185440-93b4-470e-8539-a04d274d0b37",
   "metadata": {},
   "outputs": [
    {
     "data": {
      "text/plain": [
       "uid      asin        title                                                                                                                                                                                     stars  reviews  price   isBestSeller  boughtInLastMonth  category          \n",
       "1        B09B96TG33  Echo Dot (5th generation, 2022 release) | Big vibrant sound Wi-Fi and Bluetooth smart speaker with Alexa | Charcoal                                                                       4.7    15308    21.99   False         0                  Hi-Fi Speakers        1\n",
       "1833462  B097JBZ4D7  Men's Golf Shoes, Professional Lightweight Golfer Waterproof Lightweights Golf Shoes Anti-skid Breathable Golf Shoes-men's Lightweight Footwear Boy Sports Shoes,Gray,6.5US               0.0    0        58.97   False         0                  Golf Shoes            1\n",
       "1833464  B097GPDHNQ  Golf Shoes Men's,professional Lightweight Golfer Waterproof Lightweights Golf Shoes Anti-skid Breathable Golf Shoes-outdoor Sports Walking Shoes,White,9UK                                0.0    0        76.97   False         0                  Golf Shoes            1\n",
       "1833465  B097DF3HZQ  Professional Golf Shoes for Men, Waterproof Golf Sneakers Outdoor Anti Slip Fixing nail Walking Footwear Casual sports shoes for Male,White,8US                                           0.0    0        85.97   False         0                  Golf Shoes            1\n",
       "1833466  B097CT928S  Skechers Men's Torque Twist Waterproof Golf Shoe                                                                                                                                          4.2    110      162.51  False         0                  Golf Shoes            1\n",
       "                                                                                                                                                                                                                                                                                             ..\n",
       "889449   B09FGFC3V3  Hillrong Crystal Sun Catcher Rainbow Suncatchers Point Drill Diamond DIY Painting Wind Chime Pendant DIY Crystal Dream Light Catcher Pendant Home Bedroom Party Decoration (Angel wings)  4.0    1        8.54    False         0                  Garden Décor          1\n",
       "889450   B091B25X54  JelyArt Suncatcher Crystal Hanging Pendant Rainbow Prism Maker Colorful Glass Ball Chakra Sun Catcher Window Chandelier Home Decor (Green Bird)                                           4.2    25       9.99    False         0                  Garden Décor          1\n",
       "889451   B084VQKQNG  Garden Wooden Pergola Kit - Exclusive Pergola Range - 9 Designs - 42 Size Kits (1.8m x 1.8m (with 4 posts), Longthorne Design)                                                            4.4    42       477.00  False         0                  Garden Décor          1\n",
       "889452   B07FS8G8GQ  SHAWPRINT CAUTION I LIVE HERE METAL GATE SIGN ROTTWEILER THEME 200MM X 150MM (1415H1)                                                                                                     4.8    19       3.99    False         0                  Garden Décor          1\n",
       "2828593  B08P3W9B3T  RIDEX CJ223 Motorcycle Motorbike Jacket Armoured Waterproof for Mens                                                                                                                      4.5    34       53.99   False         0                  Motorbike Clothing    1\n",
       "Name: count, Length: 2443651, dtype: int64"
      ]
     },
     "execution_count": 5,
     "metadata": {},
     "output_type": "execute_result"
    }
   ],
   "source": [
    "df.value_counts()"
   ]
  },
  {
   "cell_type": "code",
   "execution_count": null,
   "id": "c888f715-40b5-440b-9a67-e1e49da1da3b",
   "metadata": {},
   "outputs": [],
   "source": []
  }
 ],
 "metadata": {
  "kernelspec": {
   "display_name": "Python 3 (ipykernel)",
   "language": "python",
   "name": "python3"
  },
  "language_info": {
   "codemirror_mode": {
    "name": "ipython",
    "version": 3
   },
   "file_extension": ".py",
   "mimetype": "text/x-python",
   "name": "python",
   "nbconvert_exporter": "python",
   "pygments_lexer": "ipython3",
   "version": "3.12.4"
  }
 },
 "nbformat": 4,
 "nbformat_minor": 5
}
